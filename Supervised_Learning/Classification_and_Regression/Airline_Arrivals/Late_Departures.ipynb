{
 "cells": [
  {
   "cell_type": "code",
   "execution_count": 1,
   "metadata": {
    "collapsed": true
   },
   "outputs": [],
   "source": [
    "import the_beginning\n",
    "from initial_cleaning import initial_cleaning\n",
    "\n",
    "import pandas as pd\n",
    "from matplotlib import pyplot as plt\n",
    "import numpy as np\n",
    "import math\n",
    "import seaborn as sns\n",
    "import sklearn\n",
    "from sklearn import linear_model\n",
    "from sklearn import preprocessing\n",
    "\n",
    "%matplotlib inline\n",
    "sns.set_style('white')\n",
    "pd.options.display.float_format = '{:.3f}'.format\n",
    "plt.rcParams['figure.figsize'] = (20.0, 10.0)"
   ]
  },
  {
   "cell_type": "code",
   "execution_count": 2,
   "metadata": {},
   "outputs": [
    {
     "name": "stdout",
     "output_type": "stream",
     "text": [
      "   Year  Month  DayofMonth  DayOfWeek  DepTime  CRSDepTime  ArrTime  \\\n",
      "0  2007      1           1          1 1232.000        1225 1341.000   \n",
      "1  2007      1           1          1 1918.000        1905 2043.000   \n",
      "2  2007      1           1          1 2206.000        2130 2334.000   \n",
      "3  2007      1           1          1 1230.000        1200 1356.000   \n",
      "4  2007      1           1          1  831.000         830  957.000   \n",
      "\n",
      "   CRSArrTime UniqueCarrier  FlightNum        ...         TaxiIn  TaxiOut  \\\n",
      "0        1340            WN       2891        ...              4       11   \n",
      "1        2035            WN        462        ...              5        6   \n",
      "2        2300            WN       1229        ...              6        9   \n",
      "3        1330            WN       1355        ...              3        8   \n",
      "4        1000            WN       2278        ...              3        9   \n",
      "\n",
      "   Cancelled  CancellationCode  Diverted  CarrierDelay WeatherDelay NASDelay  \\\n",
      "0          0               NaN         0             0            0        0   \n",
      "1          0               NaN         0             0            0        0   \n",
      "2          0               NaN         0             3            0        0   \n",
      "3          0               NaN         0            23            0        0   \n",
      "4          0               NaN         0             0            0        0   \n",
      "\n",
      "   SecurityDelay  LateAircraftDelay  \n",
      "0              0                  0  \n",
      "1              0                  0  \n",
      "2              0                 31  \n",
      "3              0                  3  \n",
      "4              0                  0  \n",
      "\n",
      "[5 rows x 29 columns]\n",
      "Year                       0\n",
      "Month                      0\n",
      "DayofMonth                 0\n",
      "DayOfWeek                  0\n",
      "DepTime               160748\n",
      "CRSDepTime                 0\n",
      "ArrTime               177927\n",
      "CRSArrTime                 0\n",
      "UniqueCarrier              0\n",
      "FlightNum                  0\n",
      "TailNum                   22\n",
      "ActualElapsedTime     177927\n",
      "CRSElapsedTime           994\n",
      "AirTime               177927\n",
      "ArrDelay              177927\n",
      "DepDelay              160748\n",
      "Origin                     0\n",
      "Dest                       0\n",
      "Distance                   0\n",
      "TaxiIn                     0\n",
      "TaxiOut                    0\n",
      "Cancelled                  0\n",
      "CancellationCode     7292439\n",
      "Diverted                   0\n",
      "CarrierDelay               0\n",
      "WeatherDelay               0\n",
      "NASDelay                   0\n",
      "SecurityDelay              0\n",
      "LateAircraftDelay          0\n",
      "dtype: int64\n"
     ]
    }
   ],
   "source": [
    "y2007 = pd.DataFrame(initial_cleaning('/Users/jamilab/Data_Science/Data_Sets/2007.csv.bz2'))"
   ]
  },
  {
   "cell_type": "code",
   "execution_count": 3,
   "metadata": {},
   "outputs": [
    {
     "data": {
      "text/plain": [
       "(7453188, 29)"
      ]
     },
     "execution_count": 3,
     "metadata": {},
     "output_type": "execute_result"
    }
   ],
   "source": [
    "y2007.shape"
   ]
  },
  {
   "cell_type": "code",
   "execution_count": 4,
   "metadata": {
    "collapsed": true
   },
   "outputs": [],
   "source": [
    "y2007 = y2007.drop(['CancellationCode'], 1)"
   ]
  },
  {
   "cell_type": "code",
   "execution_count": 5,
   "metadata": {
    "collapsed": true
   },
   "outputs": [],
   "source": [
    "y2007 = y2007.dropna()"
   ]
  },
  {
   "cell_type": "code",
   "execution_count": 6,
   "metadata": {},
   "outputs": [
    {
     "data": {
      "text/plain": [
       "(7275261, 28)"
      ]
     },
     "execution_count": 6,
     "metadata": {},
     "output_type": "execute_result"
    }
   ],
   "source": [
    "y2007.shape"
   ]
  },
  {
   "cell_type": "code",
   "execution_count": 7,
   "metadata": {},
   "outputs": [
    {
     "data": {
      "text/plain": [
       "count   7275261.000\n",
       "mean       1339.201\n",
       "std         479.883\n",
       "min           1.000\n",
       "25%         930.000\n",
       "50%        1329.000\n",
       "75%        1733.000\n",
       "max        2400.000\n",
       "Name: DepTime, dtype: float64"
      ]
     },
     "execution_count": 7,
     "metadata": {},
     "output_type": "execute_result"
    }
   ],
   "source": [
    "y2007['DepTime'].describe()"
   ]
  },
  {
   "cell_type": "code",
   "execution_count": 8,
   "metadata": {},
   "outputs": [
    {
     "data": {
      "text/plain": [
       "count   7275261.000\n",
       "mean       1329.359\n",
       "std         464.793\n",
       "min           1.000\n",
       "25%         926.000\n",
       "50%        1320.000\n",
       "75%        1720.000\n",
       "max        2359.000\n",
       "Name: CRSDepTime, dtype: float64"
      ]
     },
     "execution_count": 8,
     "metadata": {},
     "output_type": "execute_result"
    }
   ],
   "source": [
    "y2007['CRSDepTime'].describe()"
   ]
  },
  {
   "cell_type": "code",
   "execution_count": 9,
   "metadata": {
    "collapsed": true
   },
   "outputs": [],
   "source": [
    "# determine if the flight arrived late\n",
    "\n",
    "y2007['late'] = np.where(y2007['ArrTime'] - y2007['CRSArrTime'] >30, 1, 0)"
   ]
  },
  {
   "cell_type": "code",
   "execution_count": 10,
   "metadata": {
    "collapsed": true
   },
   "outputs": [],
   "source": [
    "y2007 = y2007.drop(['Origin', 'Dest', 'TailNum', 'UniqueCarrier'], 1)"
   ]
  },
  {
   "cell_type": "code",
   "execution_count": 11,
   "metadata": {},
   "outputs": [
    {
     "data": {
      "text/html": [
       "<div>\n",
       "<style>\n",
       "    .dataframe thead tr:only-child th {\n",
       "        text-align: right;\n",
       "    }\n",
       "\n",
       "    .dataframe thead th {\n",
       "        text-align: left;\n",
       "    }\n",
       "\n",
       "    .dataframe tbody tr th {\n",
       "        vertical-align: top;\n",
       "    }\n",
       "</style>\n",
       "<table border=\"1\" class=\"dataframe\">\n",
       "  <thead>\n",
       "    <tr style=\"text-align: right;\">\n",
       "      <th></th>\n",
       "      <th>Year</th>\n",
       "      <th>Month</th>\n",
       "      <th>DayofMonth</th>\n",
       "      <th>DayOfWeek</th>\n",
       "      <th>DepTime</th>\n",
       "      <th>CRSDepTime</th>\n",
       "      <th>ArrTime</th>\n",
       "      <th>CRSArrTime</th>\n",
       "      <th>FlightNum</th>\n",
       "      <th>ActualElapsedTime</th>\n",
       "      <th>...</th>\n",
       "      <th>TaxiIn</th>\n",
       "      <th>TaxiOut</th>\n",
       "      <th>Cancelled</th>\n",
       "      <th>Diverted</th>\n",
       "      <th>CarrierDelay</th>\n",
       "      <th>WeatherDelay</th>\n",
       "      <th>NASDelay</th>\n",
       "      <th>SecurityDelay</th>\n",
       "      <th>LateAircraftDelay</th>\n",
       "      <th>late</th>\n",
       "    </tr>\n",
       "  </thead>\n",
       "  <tbody>\n",
       "    <tr>\n",
       "      <th>0</th>\n",
       "      <td>2007</td>\n",
       "      <td>1</td>\n",
       "      <td>1</td>\n",
       "      <td>1</td>\n",
       "      <td>1232.000</td>\n",
       "      <td>1225</td>\n",
       "      <td>1341.000</td>\n",
       "      <td>1340</td>\n",
       "      <td>2891</td>\n",
       "      <td>69.000</td>\n",
       "      <td>...</td>\n",
       "      <td>4</td>\n",
       "      <td>11</td>\n",
       "      <td>0</td>\n",
       "      <td>0</td>\n",
       "      <td>0</td>\n",
       "      <td>0</td>\n",
       "      <td>0</td>\n",
       "      <td>0</td>\n",
       "      <td>0</td>\n",
       "      <td>0</td>\n",
       "    </tr>\n",
       "    <tr>\n",
       "      <th>1</th>\n",
       "      <td>2007</td>\n",
       "      <td>1</td>\n",
       "      <td>1</td>\n",
       "      <td>1</td>\n",
       "      <td>1918.000</td>\n",
       "      <td>1905</td>\n",
       "      <td>2043.000</td>\n",
       "      <td>2035</td>\n",
       "      <td>462</td>\n",
       "      <td>85.000</td>\n",
       "      <td>...</td>\n",
       "      <td>5</td>\n",
       "      <td>6</td>\n",
       "      <td>0</td>\n",
       "      <td>0</td>\n",
       "      <td>0</td>\n",
       "      <td>0</td>\n",
       "      <td>0</td>\n",
       "      <td>0</td>\n",
       "      <td>0</td>\n",
       "      <td>0</td>\n",
       "    </tr>\n",
       "    <tr>\n",
       "      <th>2</th>\n",
       "      <td>2007</td>\n",
       "      <td>1</td>\n",
       "      <td>1</td>\n",
       "      <td>1</td>\n",
       "      <td>2206.000</td>\n",
       "      <td>2130</td>\n",
       "      <td>2334.000</td>\n",
       "      <td>2300</td>\n",
       "      <td>1229</td>\n",
       "      <td>88.000</td>\n",
       "      <td>...</td>\n",
       "      <td>6</td>\n",
       "      <td>9</td>\n",
       "      <td>0</td>\n",
       "      <td>0</td>\n",
       "      <td>3</td>\n",
       "      <td>0</td>\n",
       "      <td>0</td>\n",
       "      <td>0</td>\n",
       "      <td>31</td>\n",
       "      <td>1</td>\n",
       "    </tr>\n",
       "    <tr>\n",
       "      <th>3</th>\n",
       "      <td>2007</td>\n",
       "      <td>1</td>\n",
       "      <td>1</td>\n",
       "      <td>1</td>\n",
       "      <td>1230.000</td>\n",
       "      <td>1200</td>\n",
       "      <td>1356.000</td>\n",
       "      <td>1330</td>\n",
       "      <td>1355</td>\n",
       "      <td>86.000</td>\n",
       "      <td>...</td>\n",
       "      <td>3</td>\n",
       "      <td>8</td>\n",
       "      <td>0</td>\n",
       "      <td>0</td>\n",
       "      <td>23</td>\n",
       "      <td>0</td>\n",
       "      <td>0</td>\n",
       "      <td>0</td>\n",
       "      <td>3</td>\n",
       "      <td>0</td>\n",
       "    </tr>\n",
       "    <tr>\n",
       "      <th>4</th>\n",
       "      <td>2007</td>\n",
       "      <td>1</td>\n",
       "      <td>1</td>\n",
       "      <td>1</td>\n",
       "      <td>831.000</td>\n",
       "      <td>830</td>\n",
       "      <td>957.000</td>\n",
       "      <td>1000</td>\n",
       "      <td>2278</td>\n",
       "      <td>86.000</td>\n",
       "      <td>...</td>\n",
       "      <td>3</td>\n",
       "      <td>9</td>\n",
       "      <td>0</td>\n",
       "      <td>0</td>\n",
       "      <td>0</td>\n",
       "      <td>0</td>\n",
       "      <td>0</td>\n",
       "      <td>0</td>\n",
       "      <td>0</td>\n",
       "      <td>0</td>\n",
       "    </tr>\n",
       "  </tbody>\n",
       "</table>\n",
       "<p>5 rows × 25 columns</p>\n",
       "</div>"
      ],
      "text/plain": [
       "   Year  Month  DayofMonth  DayOfWeek  DepTime  CRSDepTime  ArrTime  \\\n",
       "0  2007      1           1          1 1232.000        1225 1341.000   \n",
       "1  2007      1           1          1 1918.000        1905 2043.000   \n",
       "2  2007      1           1          1 2206.000        2130 2334.000   \n",
       "3  2007      1           1          1 1230.000        1200 1356.000   \n",
       "4  2007      1           1          1  831.000         830  957.000   \n",
       "\n",
       "   CRSArrTime  FlightNum  ActualElapsedTime  ...   TaxiIn  TaxiOut  Cancelled  \\\n",
       "0        1340       2891             69.000  ...        4       11          0   \n",
       "1        2035        462             85.000  ...        5        6          0   \n",
       "2        2300       1229             88.000  ...        6        9          0   \n",
       "3        1330       1355             86.000  ...        3        8          0   \n",
       "4        1000       2278             86.000  ...        3        9          0   \n",
       "\n",
       "   Diverted  CarrierDelay  WeatherDelay  NASDelay  SecurityDelay  \\\n",
       "0         0             0             0         0              0   \n",
       "1         0             0             0         0              0   \n",
       "2         0             3             0         0              0   \n",
       "3         0            23             0         0              0   \n",
       "4         0             0             0         0              0   \n",
       "\n",
       "   LateAircraftDelay  late  \n",
       "0                  0     0  \n",
       "1                  0     0  \n",
       "2                 31     1  \n",
       "3                  3     0  \n",
       "4                  0     0  \n",
       "\n",
       "[5 rows x 25 columns]"
      ]
     },
     "execution_count": 11,
     "metadata": {},
     "output_type": "execute_result"
    }
   ],
   "source": [
    "y2007.head()"
   ]
  },
  {
   "cell_type": "markdown",
   "metadata": {},
   "source": [
    "# 2007 Airline data modeled with linear, lasso & ridge regression using raw data"
   ]
  },
  {
   "cell_type": "code",
   "execution_count": 12,
   "metadata": {},
   "outputs": [
    {
     "name": "stdout",
     "output_type": "stream",
     "text": [
      "\n",
      "R-squared for raw data:\n",
      "0.455671848126\n",
      "\n",
      "Parameter estimates:\n",
      "[  0.00000000e+00  -1.92562839e-03  -3.29436190e-04   1.41384097e-03\n",
      "   1.66033440e-04  -1.11817561e-04   4.31359518e-04  -4.27184043e-04\n",
      "   3.97530850e-06  -6.34341121e-03   9.24266838e-03  -2.56102254e-03\n",
      "   1.61302644e-02  -1.09325140e-02  -1.77667720e-05  -2.53692479e-03\n",
      "  -1.24546388e-03  -1.99059519e-16   2.22261445e-16  -3.64166845e-04\n",
      "  -1.36349246e-03   6.18292775e-04   4.74534002e-03   1.10657089e-03\n",
      "   7.30059820e-03]\n"
     ]
    }
   ],
   "source": [
    "# Define the training and test sizes\n",
    "\n",
    "trainsize = int(y2007.shape[0] / 2)\n",
    "y2007_test = y2007.iloc[trainsize:, :].copy()\n",
    "y2007_train = y2007.iloc[:trainsize, :].copy()\n",
    "\n",
    "# Set up the linear regression model to predict defaults using all other variables as features.\n",
    "\n",
    "regr07 = linear_model.LinearRegression()\n",
    "Y_train = y2007_train['late'].values.reshape(-1, 1)\n",
    "X_train = y2007_train.drop(['late'], 1)\n",
    "\n",
    "Y_test = y2007_test['late'].values.reshape(-1, 1)\n",
    "X_test = y2007_test.drop(['late'], 1)\n",
    "\n",
    "regr07.fit(X_train, Y_train)\n",
    "print('\\nR-squared for raw data:')\n",
    "print(regr07.score(X_test, Y_test))\n",
    "\n",
    "# Store parameter estimates\n",
    "\n",
    "origparams07 = np.append(regr07.coef_, regr07.intercept_)\n",
    "print('\\nParameter estimates:')\n",
    "print(origparams07)"
   ]
  },
  {
   "cell_type": "code",
   "execution_count": 13,
   "metadata": {},
   "outputs": [
    {
     "name": "stdout",
     "output_type": "stream",
     "text": [
      "R² for raw data:\n",
      "0.455029168363\n",
      "\n",
      "Parameter estimates:\n",
      "[  0.00000000e+00  -0.00000000e+00  -0.00000000e+00   0.00000000e+00\n",
      "   1.52888673e-04  -9.91426455e-05   4.31211994e-04  -4.25570547e-04\n",
      "   3.67273007e-06   9.13103513e-04  -3.57342840e-04  -0.00000000e+00\n",
      "   5.40884905e-03  -3.75050929e-04  -4.53144005e-05   0.00000000e+00\n",
      "   1.17777293e-03   0.00000000e+00   0.00000000e+00  -0.00000000e+00\n",
      "  -3.15705459e-04   8.76551504e-04   0.00000000e+00   1.12165497e-03\n",
      "  -7.65963228e-03]\n"
     ]
    }
   ],
   "source": [
    "# lasso regression model \n",
    "\n",
    "lass07 = linear_model.Lasso(alpha=.08)\n",
    "lassfit07 = lass07.fit(X_train, Y_train)\n",
    "print('R² for raw data:')\n",
    "print(lass07.score(X_test, Y_test))\n",
    "\n",
    "lassparams07 = np.append(lassfit07.coef_, lassfit07.intercept_)\n",
    "print('\\nParameter estimates:')\n",
    "print(lassparams07)"
   ]
  },
  {
   "cell_type": "code",
   "execution_count": 14,
   "metadata": {},
   "outputs": [
    {
     "name": "stdout",
     "output_type": "stream",
     "text": [
      "0.455671773203\n",
      "[  3.63757375e-06  -1.92562431e-03  -3.29436230e-04   1.41383339e-03\n",
      "   1.66033569e-04  -1.11817720e-04   4.31359067e-04  -4.27183568e-04\n",
      "   3.97530347e-06  -3.77410396e-03   5.81692852e-03  -1.70458987e-03\n",
      "   1.27045241e-02  -7.50677433e-03  -1.77667879e-05  -1.68048834e-03\n",
      "  -3.89030722e-04   0.00000000e+00   0.00000000e+00  -3.64166174e-04\n",
      "  -1.36349033e-03   6.18292444e-04   4.74533831e-03   1.10657129e-03]\n"
     ]
    }
   ],
   "source": [
    "# ridge regression model\n",
    "\n",
    "ridgeregr07 = linear_model.Ridge(alpha=10, fit_intercept=False) \n",
    "ridgeregr07.fit(X_train, Y_train)\n",
    "print(ridgeregr07.score(X_test, Y_test))\n",
    "\n",
    "ridgeparams07 = ridgeregr07.coef_[0]\n",
    "print(ridgeparams07)"
   ]
  },
  {
   "cell_type": "markdown",
   "metadata": {},
   "source": [
    "# 2007 Airline data with feature engineering using linear, lasso & ridge regression models"
   ]
  },
  {
   "cell_type": "code",
   "execution_count": 15,
   "metadata": {},
   "outputs": [
    {
     "name": "stdout",
     "output_type": "stream",
     "text": [
      "\n",
      "R-squared for feature engineered data:\n",
      "0.462444607535\n",
      "\n",
      "Parameter Estimates for raw data and feature engineered data:\n",
      "[[0.000 -0.000]\n",
      " [-0.002 -0.002]\n",
      " [-0.000 -0.000]\n",
      " [0.001 0.001]\n",
      " [0.000 0.000]\n",
      " [-0.000 -0.000]\n",
      " [0.000 0.000]\n",
      " [-0.000 -0.000]\n",
      " [0.000 0.000]\n",
      " [-0.006 0.003]\n",
      " [0.009 -0.002]\n",
      " [-0.003 -0.000]\n",
      " [0.016 0.005]\n",
      " [-0.011 0.000]\n",
      " [-0.000 0.000]\n",
      " [-0.003 -0.001]\n",
      " [-0.001 0.004]\n",
      " [-0.000 -0.000]\n",
      " [0.000 -0.000]\n",
      " [-0.000 -0.000]\n",
      " [-0.001 -0.002]\n",
      " [0.001 0.001]\n",
      " [0.005 0.008]\n",
      " [0.001 0.001]\n",
      " [0.007 -0.040]]\n"
     ]
    }
   ],
   "source": [
    "# New features to capture potential relationships between features.\n",
    "\n",
    "y2007_train['ArrDist'] = y2007_train['ArrTime'] * y2007_train['Distance']\n",
    "y2007_train['DepDist'] = y2007_train['DepTime'] * y2007_train['Distance']\n",
    "y2007_train['ArrTaxiIn'] = y2007_train['ArrTime'] * y2007_train['TaxiIn']\n",
    "y2007_train['DepTaxiOut'] = y2007_train['DepTime'] * y2007_train['TaxiOut']\n",
    "y2007_train['ArrWeather'] = y2007_train['ArrTime'] * y2007_train['WeatherDelay']\n",
    "y2007_train['DepWeather'] = y2007_train['DepTime'] * y2007_train['WeatherDelay']\n",
    "y2007_train['ArrSecurity'] = y2007_train['ArrTime'] * y2007_train['SecurityDelay']\n",
    "y2007_train['DepSecurity'] = y2007_train['DepTime'] * y2007_train['SecurityDelay']\n",
    "y2007_train['ArrAircraft'] = y2007_train['ArrTime'] * y2007_train['LateAircraftDelay']\n",
    "y2007_train['DepAircraft'] = y2007_train['DepTime'] * y2007_train['LateAircraftDelay']\n",
    "\n",
    "X_train2 = y2007_train.drop(['late'], 1)\n",
    "\n",
    "y2007_test['ArrDist'] = y2007_test['ArrTime'] * y2007_test['Distance']\n",
    "y2007_test['DepDist'] = y2007_test['DepTime'] * y2007_test['Distance']\n",
    "y2007_test['ArrTaxiIn'] = y2007_test['ArrTime'] * y2007_test['TaxiIn']\n",
    "y2007_test['DepTaxiOut'] = y2007_test['DepTime'] * y2007_test['TaxiOut']\n",
    "y2007_test['ArrWeather'] = y2007_test['ArrTime'] * y2007_test['WeatherDelay']\n",
    "y2007_test['DepWeather'] = y2007_test['DepTime'] * y2007_test['WeatherDelay']\n",
    "y2007_test['ArrSecurity'] = y2007_test['ArrTime'] * y2007_test['SecurityDelay']\n",
    "y2007_test['DepSecurity'] = y2007_test['DepTime'] * y2007_test['SecurityDelay']\n",
    "y2007_test['ArrAircraft'] = y2007_test['ArrTime'] * y2007_test['LateAircraftDelay']\n",
    "y2007_test['DepAircraft'] = y2007_test['DepTime'] * y2007_test['LateAircraftDelay']\n",
    "\n",
    "X_test2 = y2007_test.drop(['late'], 1)\n",
    "\n",
    "# Re-run linear regression model with new features\n",
    "\n",
    "regrBig = linear_model.LinearRegression()\n",
    "regrBig.fit(X_train2, Y_train)\n",
    "print('\\nR-squared for feature engineered data:')\n",
    "print(regrBig.score(X_test2, Y_test))\n",
    "\n",
    "# Store the new parameter estimates for the same features.\n",
    "newparams07 = np.append(\n",
    "    regrBig.coef_[0,0:(len(origparams07)-1)],\n",
    "    regrBig.intercept_)\n",
    "print('\\nParameter Estimates for raw data and feature engineered data:')\n",
    "\n",
    "compare = np.column_stack((origparams07, newparams07))\n",
    "prettycompare = np.array2string(compare, formatter={'float_kind':'{0:.3f}'.format})\n",
    "print(prettycompare)"
   ]
  },
  {
   "cell_type": "code",
   "execution_count": 16,
   "metadata": {},
   "outputs": [
    {
     "name": "stdout",
     "output_type": "stream",
     "text": [
      "\n",
      "R² for feature engineered data:\n",
      "0.459370654447\n",
      "\n",
      "Parameter estimates for feature engineered data:\n",
      "[  0.00000000e+00  -0.00000000e+00  -0.00000000e+00   0.00000000e+00\n",
      "   2.04693684e-04  -1.01669977e-04   3.32343881e-04  -3.85585897e-04\n",
      "   3.78396765e-06   8.14182243e-04  -3.23815642e-04   0.00000000e+00\n",
      "   5.28579720e-03  -2.71525141e-04  -3.19140096e-06  -0.00000000e+00\n",
      "   0.00000000e+00   0.00000000e+00   0.00000000e+00  -0.00000000e+00\n",
      "  -0.00000000e+00   7.95293505e-04   0.00000000e+00   0.00000000e+00\n",
      "   1.92071211e-08  -4.52708293e-08   5.53519724e-07   1.10512645e-06\n",
      "   7.04203755e-07  -1.29189347e-06   3.07876838e-06  -0.00000000e+00\n",
      "   1.74556275e-06  -8.63352997e-07   2.57944355e-03]\n"
     ]
    }
   ],
   "source": [
    "# lasso regression feature engineered data\n",
    "\n",
    "lassBig = linear_model.Lasso(alpha=.08)\n",
    "lassBig.fit(X_train2, Y_train)\n",
    "print('\\nR² for feature engineered data:')\n",
    "print(lassBig.score(X_test2, Y_test))\n",
    "\n",
    "lassparamsBig = np.append(lassBig.coef_, lassBig.intercept_)\n",
    "print('\\nParameter estimates for feature engineered data:')\n",
    "print(lassparamsBig)"
   ]
  },
  {
   "cell_type": "code",
   "execution_count": 17,
   "metadata": {},
   "outputs": [
    {
     "name": "stdout",
     "output_type": "stream",
     "text": [
      "0.462444610106\n",
      "\n",
      "Parameter Estimates for the raw data and feature engineered data:\n",
      "[[0.000 -0.000]\n",
      " [-0.002 -0.002]\n",
      " [-0.000 -0.000]\n",
      " [0.001 0.001]\n",
      " [0.000 0.000]\n",
      " [-0.000 -0.000]\n",
      " [0.000 0.000]\n",
      " [-0.000 -0.000]\n",
      " [0.000 0.000]\n",
      " [-0.004 0.003]\n",
      " [0.006 -0.002]\n",
      " [-0.002 -0.000]\n",
      " [0.013 0.005]\n",
      " [-0.008 0.000]\n",
      " [-0.000 0.000]\n",
      " [-0.002 -0.001]\n",
      " [-0.000 0.004]\n",
      " [0.000 0.000]\n",
      " [0.000 0.000]\n",
      " [-0.000 -0.000]\n",
      " [-0.001 -0.002]\n",
      " [0.001 0.001]\n",
      " [0.005 0.008]\n",
      " [0.001 0.001]]\n"
     ]
    }
   ],
   "source": [
    "ridgeregrBig = linear_model.Ridge(alpha=10, fit_intercept=False)\n",
    "ridgeregrBig.fit(X_train2, Y_train)\n",
    "print(ridgeregrBig.score(X_test2, Y_test))\n",
    "ridgeparamsBig = ridgeregrBig.coef_[0, 0:len(ridgeparams07)]\n",
    "print('\\nParameter Estimates for the raw data and feature engineered data:')\n",
    "\n",
    "compare = np.column_stack((ridgeparams07, ridgeparamsBig))\n",
    "prettycompare = np.array2string(compare, formatter={'float_kind':'{0:.3f}'.format})\n",
    "print(prettycompare)"
   ]
  },
  {
   "cell_type": "markdown",
   "metadata": {},
   "source": [
    "# Model accuracy comparison between raw data & feature engineered data"
   ]
  },
  {
   "cell_type": "code",
   "execution_count": 18,
   "metadata": {},
   "outputs": [
    {
     "name": "stdout",
     "output_type": "stream",
     "text": [
      "0.455671848126\n",
      "0.462444607535\n"
     ]
    }
   ],
   "source": [
    "# linear regression accuracy comparison between raw data & feature engineered data\n",
    "\n",
    "print(regr07.score(X_test, Y_test))\n",
    "print(regrBig.score(X_test2, Y_test))"
   ]
  },
  {
   "cell_type": "code",
   "execution_count": 19,
   "metadata": {},
   "outputs": [
    {
     "data": {
      "text/plain": [
       "array([ 0.46124522,  0.42896775,  0.44804776,  0.4582674 ,  0.43872102,\n",
       "        0.46245763,  0.43973763,  0.46029888,  0.47911415,  0.42077351])"
      ]
     },
     "execution_count": 19,
     "metadata": {},
     "output_type": "execute_result"
    }
   ],
   "source": [
    "# linear regression cross validation scores for raw data\n",
    "\n",
    "from sklearn.model_selection import cross_val_score\n",
    "cross_val_score(regr07, X_test, Y_test, cv=10)"
   ]
  },
  {
   "cell_type": "code",
   "execution_count": 20,
   "metadata": {},
   "outputs": [
    {
     "data": {
      "text/plain": [
       "array([ 0.46896519,  0.43701738,  0.45426426,  0.46563443,  0.44412255,\n",
       "        0.47010052,  0.44812356,  0.46355955,  0.48383079,  0.42819987])"
      ]
     },
     "execution_count": 20,
     "metadata": {},
     "output_type": "execute_result"
    }
   ],
   "source": [
    "# linear regression cross validation scores for feature engineered data\n",
    "\n",
    "cross_val_score(regrBig, X_test2, Y_test, cv=10)"
   ]
  },
  {
   "cell_type": "markdown",
   "metadata": {},
   "source": [
    "**The linear regression model with feature engineered data performed slightly better than the raw data.**"
   ]
  },
  {
   "cell_type": "code",
   "execution_count": 21,
   "metadata": {},
   "outputs": [
    {
     "name": "stdout",
     "output_type": "stream",
     "text": [
      "0.455029168363\n",
      "0.459370654447\n"
     ]
    }
   ],
   "source": [
    "# lasso regression accuracy comparison between raw data & feature engineered data\n",
    "\n",
    "print(lass07.score(X_test, Y_test))\n",
    "print(lassBig.score(X_test2, Y_test))"
   ]
  },
  {
   "cell_type": "code",
   "execution_count": 22,
   "metadata": {},
   "outputs": [
    {
     "data": {
      "text/plain": [
       "array([ 0.46484485,  0.42601282,  0.44796706,  0.45941506,  0.43562219,\n",
       "        0.46364741,  0.43680399,  0.46028614,  0.4772016 ,  0.41502799])"
      ]
     },
     "execution_count": 22,
     "metadata": {},
     "output_type": "execute_result"
    }
   ],
   "source": [
    "# cross validation scores for lasso regression with raw data\n",
    "\n",
    "cross_val_score(lass07, X_test, Y_test, cv=10)"
   ]
  },
  {
   "cell_type": "code",
   "execution_count": 24,
   "metadata": {},
   "outputs": [
    {
     "data": {
      "text/plain": [
       "array([ 0.469555  ,  0.43258243,  0.45119391,  0.4647272 ,  0.44022532,\n",
       "        0.46819195,  0.44314157,  0.46282639,  0.47991883,  0.42013241])"
      ]
     },
     "execution_count": 24,
     "metadata": {},
     "output_type": "execute_result"
    }
   ],
   "source": [
    "# cross validation scores for lasso regression with feature engineered data\n",
    "\n",
    "cross_val_score(lassBig, X_test2, Y_test, cv=10)"
   ]
  },
  {
   "cell_type": "markdown",
   "metadata": {},
   "source": [
    "**The lasso regression model using feature engineered data performed slightly better than the model using raw data.**  "
   ]
  },
  {
   "cell_type": "code",
   "execution_count": 25,
   "metadata": {},
   "outputs": [
    {
     "name": "stdout",
     "output_type": "stream",
     "text": [
      "0.455671773203\n",
      "0.462444610106\n"
     ]
    }
   ],
   "source": [
    "# ridge regression accuracy comparison between raw data & feature engineered data\n",
    "\n",
    "print(ridgeregr07.score(X_test, Y_test))\n",
    "print(ridgeregrBig.score(X_test2, Y_test))"
   ]
  },
  {
   "cell_type": "code",
   "execution_count": 26,
   "metadata": {},
   "outputs": [
    {
     "data": {
      "text/plain": [
       "array([ 0.46124868,  0.4289722 ,  0.44805086,  0.45826291,  0.43871652,\n",
       "        0.46245759,  0.43973354,  0.46029898,  0.479113  ,  0.42077508])"
      ]
     },
     "execution_count": 26,
     "metadata": {},
     "output_type": "execute_result"
    }
   ],
   "source": [
    "# cross validation scores for ridge regression with raw data\n",
    "\n",
    "cross_val_score(ridgeregr07, X_test, Y_test, cv=10)"
   ]
  },
  {
   "cell_type": "code",
   "execution_count": 27,
   "metadata": {},
   "outputs": [
    {
     "data": {
      "text/plain": [
       "array([ 0.46896957,  0.43701796,  0.45426827,  0.46563064,  0.44411845,\n",
       "        0.4701004 ,  0.44811999,  0.46355935,  0.48382895,  0.4281996 ])"
      ]
     },
     "execution_count": 27,
     "metadata": {},
     "output_type": "execute_result"
    }
   ],
   "source": [
    "# cross validation scores for ridge regression with feature engineered data\n",
    "\n",
    "cross_val_score(ridgeregrBig, X_test2, Y_test, cv=10)"
   ]
  },
  {
   "cell_type": "markdown",
   "metadata": {},
   "source": [
    "**The ridge regression model using feature engineered data performed slightly better than the model using raw data.**"
   ]
  },
  {
   "cell_type": "markdown",
   "metadata": {},
   "source": [
    "# 2008 Airline Data Comparison"
   ]
  },
  {
   "cell_type": "code",
   "execution_count": 28,
   "metadata": {},
   "outputs": [
    {
     "name": "stdout",
     "output_type": "stream",
     "text": [
      "   Year  Month  DayofMonth  DayOfWeek  DepTime  CRSDepTime  ArrTime  \\\n",
      "0  2008      1           3          4 2003.000        1955 2211.000   \n",
      "1  2008      1           3          4  754.000         735 1002.000   \n",
      "2  2008      1           3          4  628.000         620  804.000   \n",
      "3  2008      1           3          4  926.000         930 1054.000   \n",
      "4  2008      1           3          4 1829.000        1755 1959.000   \n",
      "\n",
      "   CRSArrTime UniqueCarrier  FlightNum        ...         TaxiIn  TaxiOut  \\\n",
      "0        2225            WN        335        ...          4.000    8.000   \n",
      "1        1000            WN       3231        ...          5.000   10.000   \n",
      "2         750            WN        448        ...          3.000   17.000   \n",
      "3        1100            WN       1746        ...          3.000    7.000   \n",
      "4        1925            WN       3920        ...          3.000   10.000   \n",
      "\n",
      "   Cancelled  CancellationCode  Diverted  CarrierDelay WeatherDelay NASDelay  \\\n",
      "0          0               NaN         0           nan          nan      nan   \n",
      "1          0               NaN         0           nan          nan      nan   \n",
      "2          0               NaN         0           nan          nan      nan   \n",
      "3          0               NaN         0           nan          nan      nan   \n",
      "4          0               NaN         0         2.000        0.000    0.000   \n",
      "\n",
      "   SecurityDelay  LateAircraftDelay  \n",
      "0            nan                nan  \n",
      "1            nan                nan  \n",
      "2            nan                nan  \n",
      "3            nan                nan  \n",
      "4          0.000             32.000  \n",
      "\n",
      "[5 rows x 29 columns]\n",
      "Year                       0\n",
      "Month                      0\n",
      "DayofMonth                 0\n",
      "DayOfWeek                  0\n",
      "DepTime               136246\n",
      "CRSDepTime                 0\n",
      "ArrTime               151649\n",
      "CRSArrTime                 0\n",
      "UniqueCarrier              0\n",
      "FlightNum                  0\n",
      "TailNum                83365\n",
      "ActualElapsedTime     154699\n",
      "CRSElapsedTime           844\n",
      "AirTime               154699\n",
      "ArrDelay              154699\n",
      "DepDelay              136246\n",
      "Origin                     0\n",
      "Dest                       0\n",
      "Distance                   0\n",
      "TaxiIn                151649\n",
      "TaxiOut               137058\n",
      "Cancelled                  0\n",
      "CancellationCode     6872290\n",
      "Diverted                   0\n",
      "CarrierDelay         5484991\n",
      "WeatherDelay         5484991\n",
      "NASDelay             5484991\n",
      "SecurityDelay        5484991\n",
      "LateAircraftDelay    5484991\n",
      "dtype: int64\n"
     ]
    }
   ],
   "source": [
    "y2008 = pd.DataFrame(initial_cleaning('/Users/jamilab/Data_Science/Data_Sets/2008.csv.bz2'))"
   ]
  },
  {
   "cell_type": "code",
   "execution_count": 29,
   "metadata": {
    "collapsed": true
   },
   "outputs": [],
   "source": [
    "y2008 = y2008.drop(['CancellationCode', 'CarrierDelay', 'WeatherDelay', 'NASDelay', 'SecurityDelay', 'LateAircraftDelay'], 1)"
   ]
  },
  {
   "cell_type": "code",
   "execution_count": 30,
   "metadata": {
    "collapsed": true
   },
   "outputs": [],
   "source": [
    "y2008 = y2008.drop(['Origin', 'Dest', 'TailNum', 'UniqueCarrier'], 1)"
   ]
  },
  {
   "cell_type": "code",
   "execution_count": 31,
   "metadata": {
    "collapsed": true
   },
   "outputs": [],
   "source": [
    "y2008 = y2008.dropna()"
   ]
  },
  {
   "cell_type": "code",
   "execution_count": 32,
   "metadata": {},
   "outputs": [
    {
     "data": {
      "text/plain": [
       "(6855025, 19)"
      ]
     },
     "execution_count": 32,
     "metadata": {},
     "output_type": "execute_result"
    }
   ],
   "source": [
    "y2008.shape"
   ]
  },
  {
   "cell_type": "code",
   "execution_count": 33,
   "metadata": {
    "collapsed": true
   },
   "outputs": [],
   "source": [
    "# determine if the flight arrived late\n",
    "\n",
    "y2008['late'] = np.where(y2008['ArrTime'] - y2008['CRSArrTime'] >30, 1, 0)"
   ]
  },
  {
   "cell_type": "markdown",
   "metadata": {},
   "source": [
    "# 2008 Airline data modeled with linear, lasso & ridge regression using raw data"
   ]
  },
  {
   "cell_type": "code",
   "execution_count": 34,
   "metadata": {},
   "outputs": [
    {
     "name": "stdout",
     "output_type": "stream",
     "text": [
      "\n",
      "R-squared simple model:\n",
      "0.454240778376\n"
     ]
    }
   ],
   "source": [
    "# Define the training and test sizes.\n",
    "\n",
    "trainsize = int(y2008.shape[0] / 2)\n",
    "y2008_test = y2008.iloc[trainsize:, :].copy()\n",
    "y2008_train = y2008.iloc[:trainsize, :].copy()\n",
    "\n",
    "# Set up the linear regression model to predict defaults using all other variables as features.\n",
    "regr08 = linear_model.LinearRegression()\n",
    "Y_train08 = y2008_train['late'].values.reshape(-1, 1)\n",
    "X_train08 = y2008_train.drop(['late'], 1)\n",
    "\n",
    "Y_test08 = y2008_test['late'].values.reshape(-1, 1)\n",
    "X_test08 = y2008_test.drop(['late'], 1)\n",
    "\n",
    "regr08.fit(X_train08, Y_train08)\n",
    "print('\\nR-squared simple model:')\n",
    "print(regr08.score(X_test08, Y_test08))\n",
    "\n",
    "#Store the parameter estimates.\n",
    "origparams08 = np.append(regr08.coef_, regr08.intercept_)"
   ]
  },
  {
   "cell_type": "code",
   "execution_count": 35,
   "metadata": {},
   "outputs": [
    {
     "name": "stdout",
     "output_type": "stream",
     "text": [
      "R² for raw data:\n",
      "0.454397157291\n",
      "\n",
      "Parameter estimates for raw data:\n",
      "[  0.00000000e+00  -0.00000000e+00  -0.00000000e+00   0.00000000e+00\n",
      "   1.57841981e-04  -1.04554308e-04   4.12320238e-04  -4.07750857e-04\n",
      "   2.51460577e-06   1.35352281e-03  -3.06287857e-04  -0.00000000e+00\n",
      "   5.72454206e-03  -1.35333038e-04  -1.03994478e-04   0.00000000e+00\n",
      "   1.09757202e-03   0.00000000e+00   0.00000000e+00  -1.95423095e-02]\n"
     ]
    }
   ],
   "source": [
    "# lasso regression model\n",
    "\n",
    "lass08 = linear_model.Lasso(alpha=.08)\n",
    "lassfit08 = lass08.fit(X_train08, Y_train08)\n",
    "print('R² for raw data:')\n",
    "print(lass08.score(X_test08, Y_test08))\n",
    "\n",
    "lassparams08 = np.append(lassfit08.coef_, lassfit08.intercept_)\n",
    "print('\\nParameter estimates for raw data:')\n",
    "print(lassparams08)"
   ]
  },
  {
   "cell_type": "code",
   "execution_count": 36,
   "metadata": {},
   "outputs": [
    {
     "name": "stdout",
     "output_type": "stream",
     "text": [
      "0.454240823416\n",
      "\n",
      "Parameter estimates for raw data:\n",
      "[  1.84321799e-06  -2.17469313e-03  -3.36965991e-04   9.85854236e-04\n",
      "   1.74881563e-04  -1.20945773e-04   4.11457081e-04  -4.06506267e-04\n",
      "   2.83617071e-06  -3.32619326e-02   4.53681475e-02  -1.15511111e-02\n",
      "   5.25417217e-02  -4.70485990e-02  -4.37808907e-05  -1.15479938e-02\n",
      "  -1.01628174e-02   0.00000000e+00   0.00000000e+00]\n"
     ]
    }
   ],
   "source": [
    "# ridge regression model\n",
    "\n",
    "ridgeregr08 = linear_model.Ridge(alpha=10, fit_intercept=False) \n",
    "ridgeregr08.fit(X_train08, Y_train08)\n",
    "print(ridgeregr08.score(X_test08, Y_test08))\n",
    "\n",
    "ridgeparams08 = ridgeregr08.coef_[0]\n",
    "print('\\nParameter estimates for raw data:')\n",
    "print(ridgeparams08)"
   ]
  },
  {
   "cell_type": "markdown",
   "metadata": {},
   "source": [
    "**In terms of model accuracy and performance, there wasn't much difference in variance accounted for between the 3 models, with all models at approximately 45%.**"
   ]
  },
  {
   "cell_type": "markdown",
   "metadata": {
    "collapsed": true
   },
   "source": [
    "# 2008 Airline data with feature engineering using linear, lasso & ridge regression models"
   ]
  },
  {
   "cell_type": "code",
   "execution_count": 37,
   "metadata": {},
   "outputs": [
    {
     "name": "stdout",
     "output_type": "stream",
     "text": [
      "\n",
      "R-squared for feature engineered data:\n",
      "0.455984668064\n",
      "\n",
      "Parameter Estimates for raw data and feature engineered data:\n",
      "[[0.000 -0.000]\n",
      " [-0.002 -0.003]\n",
      " [-0.000 -0.000]\n",
      " [0.001 -0.001]\n",
      " [0.000 0.000]\n",
      " [-0.000 -0.000]\n",
      " [0.000 0.000]\n",
      " [-0.000 -0.000]\n",
      " [0.000 0.000]\n",
      " [-0.074 -0.104]\n",
      " [0.099 0.140]\n",
      " [-0.025 -0.036]\n",
      " [0.107 0.147]\n",
      " [-0.101 -0.141]\n",
      " [-0.000 0.000]\n",
      " [-0.025 -0.037]\n",
      " [-0.024 -0.031]\n",
      " [0.000 -0.000]\n",
      " [0.000 -0.000]\n",
      " [0.004 -0.008]]\n"
     ]
    }
   ],
   "source": [
    "# New features to capture potential relationships between features.\n",
    "\n",
    "y2008_train['ArrDist'] = y2008_train['ArrTime'] * y2008_train['Distance']\n",
    "y2008_train['DepDist'] = y2008_train['DepTime'] * y2008_train['Distance']\n",
    "y2008_train['ArrTaxiIn'] = y2008_train['ArrTime'] * y2008_train['TaxiIn']\n",
    "y2008_train['DepTaxiOut'] = y2008_train['DepTime'] * y2008_train['TaxiOut']\n",
    "y2008_train['ArrElapsedTime'] = y2008_train['ArrTime'] * y2008_train['ActualElapsedTime']\n",
    "y2008_train['DepElapsedTime'] = y2008_train['DepTime'] * y2008_train['ActualElapsedTime']\n",
    "y2008_train['ArrWeekDay'] = y2008_train['ArrTime'] * y2008_train['DayOfWeek']\n",
    "y2008_train['DepWeekDay'] = y2008_train['DepTime'] * y2008_train['DayOfWeek']\n",
    "y2008_train['ArrMonth'] = y2008_train['ArrTime'] * y2008_train['Month']\n",
    "y2008_train['DepMonth'] = y2008_train['DepTime'] * y2008_train['Month']\n",
    "\n",
    "X_train08_2 = y2008_train.drop(['late'], 1)\n",
    "\n",
    "y2008_test['ArrDist'] = y2008_test['ArrTime'] * y2008_test['Distance']\n",
    "y2008_test['DepDist'] = y2008_test['DepTime'] * y2008_test['Distance']\n",
    "y2008_test['ArrTaxiIn'] = y2008_test['ArrTime'] * y2008_test['TaxiIn']\n",
    "y2008_test['DepTaxiOut'] = y2008_test['DepTime'] * y2008_test['TaxiOut']\n",
    "y2008_test['ArrElapsedTime'] = y2008_test['ArrTime'] * y2008_test['ActualElapsedTime']\n",
    "y2008_test['DepElapsedTime'] = y2008_test['DepTime'] * y2008_test['ActualElapsedTime']\n",
    "y2008_test['ArrWeekDay'] = y2008_test['ArrTime'] * y2008_test['DayOfWeek']\n",
    "y2008_test['DepWeekDay'] = y2008_test['DepTime'] * y2008_test['DayOfWeek']\n",
    "y2008_test['ArrMonth'] = y2008_test['ArrTime'] * y2008_test['Month']\n",
    "y2008_test['DepMonth'] = y2008_test['DepTime'] * y2008_test['Month']\n",
    "\n",
    "X_test08_2 = y2008_test.drop(['late'], 1)\n",
    "\n",
    "# Re-run linear regression model with new features\n",
    "\n",
    "regrBig08 = linear_model.LinearRegression()\n",
    "regrBig08.fit(X_train08_2, Y_train08)\n",
    "print('\\nR-squared for feature engineered data:')\n",
    "print(regrBig08.score(X_test08_2, Y_test08))\n",
    "\n",
    "# Store the new parameter estimates for the feature engineered data\n",
    "newparams08 = np.append(\n",
    "    regrBig08.coef_[0,0:(len(origparams08)-1)],\n",
    "    regrBig08.intercept_)\n",
    "print('\\nParameter Estimates for raw data and feature engineered data:')\n",
    "\n",
    "compare = np.column_stack((origparams08, newparams08))\n",
    "prettycompare = np.array2string(compare, formatter={'float_kind':'{0:.3f}'.format})\n",
    "print(prettycompare)"
   ]
  },
  {
   "cell_type": "code",
   "execution_count": 38,
   "metadata": {},
   "outputs": [
    {
     "name": "stderr",
     "output_type": "stream",
     "text": [
      "/Users/jamilab/anaconda3/lib/python3.6/site-packages/sklearn/linear_model/coordinate_descent.py:491: ConvergenceWarning: Objective did not converge. You might want to increase the number of iterations. Fitting data with very small alpha may cause precision problems.\n",
      "  ConvergenceWarning)\n"
     ]
    },
    {
     "name": "stdout",
     "output_type": "stream",
     "text": [
      "\n",
      "R² for feature engineered data:\n",
      "0.455454141878\n",
      "\n",
      "Parameter estimates for feature engineered data:\n",
      "[  0.00000000e+00  -0.00000000e+00  -0.00000000e+00  -0.00000000e+00\n",
      "   2.09111305e-04  -1.14848180e-04   3.24963334e-04  -3.97664516e-04\n",
      "   2.46120298e-06   0.00000000e+00  -2.70960988e-04   0.00000000e+00\n",
      "   5.57579751e-03  -1.44872016e-05   7.69067210e-05   0.00000000e+00\n",
      "   0.00000000e+00   0.00000000e+00   0.00000000e+00  -1.87704157e-07\n",
      "   6.75072247e-08   1.94347668e-07   9.17920030e-07   1.70251156e-06\n",
      "  -8.74600796e-07  -3.56667802e-07   1.22072818e-06  -1.42603975e-06\n",
      "   4.35774722e-07   3.64363774e-02]\n"
     ]
    }
   ],
   "source": [
    "# lasso regression feature engineered data\n",
    "\n",
    "lassBig08 = linear_model.Lasso(alpha=.08)\n",
    "lassBig08.fit(X_train08_2, Y_train08)\n",
    "print('\\nR² for feature engineered data:')\n",
    "print(lassBig08.score(X_test08_2, Y_test08))\n",
    "\n",
    "lassparamsBig08 = np.append(lassBig08.coef_, lassBig08.intercept_)\n",
    "print('\\nParameter estimates for feature engineered data:')\n",
    "print(lassparamsBig08)"
   ]
  },
  {
   "cell_type": "code",
   "execution_count": 39,
   "metadata": {},
   "outputs": [
    {
     "name": "stdout",
     "output_type": "stream",
     "text": [
      "0.455984524026\n",
      "\n",
      "Parameter Estimates for the raw data and feature engineered data:\n",
      "[[0.000 -0.000]\n",
      " [-0.002 -0.003]\n",
      " [-0.000 -0.000]\n",
      " [0.001 -0.001]\n",
      " [0.000 0.000]\n",
      " [-0.000 -0.000]\n",
      " [0.000 0.000]\n",
      " [-0.000 -0.000]\n",
      " [0.000 0.000]\n",
      " [-0.033 -0.047]\n",
      " [0.045 0.064]\n",
      " [-0.012 -0.017]\n",
      " [0.053 0.071]\n",
      " [-0.047 -0.066]\n",
      " [-0.000 0.000]\n",
      " [-0.012 -0.018]\n",
      " [-0.010 -0.012]\n",
      " [0.000 0.000]\n",
      " [0.000 0.000]]\n"
     ]
    }
   ],
   "source": [
    "ridgeregrBig08 = linear_model.Ridge(alpha=10, fit_intercept=False)\n",
    "ridgeregrBig08.fit(X_train08_2, Y_train08)\n",
    "print(ridgeregrBig08.score(X_test08_2, Y_test08))\n",
    "ridgeparamsBig08 = ridgeregrBig08.coef_[0, 0:len(ridgeparams08)]\n",
    "print('\\nParameter Estimates for the raw data and feature engineered data:')\n",
    "\n",
    "compare = np.column_stack((ridgeparams08, ridgeparamsBig08))\n",
    "prettycompare = np.array2string(compare, formatter={'float_kind':'{0:.3f}'.format})\n",
    "print(prettycompare)"
   ]
  },
  {
   "cell_type": "markdown",
   "metadata": {},
   "source": [
    "# Model accuracy comparison between raw data & feature engineered data "
   ]
  },
  {
   "cell_type": "code",
   "execution_count": 40,
   "metadata": {},
   "outputs": [
    {
     "name": "stdout",
     "output_type": "stream",
     "text": [
      "0.454240778376\n",
      "0.455984668064\n"
     ]
    }
   ],
   "source": [
    "# linear regression accuracy comparison between raw data & feature engineered data\n",
    "\n",
    "print(regr08.score(X_test08, Y_test08))\n",
    "print(regrBig08.score(X_test08_2, Y_test08))"
   ]
  },
  {
   "cell_type": "code",
   "execution_count": 41,
   "metadata": {},
   "outputs": [
    {
     "data": {
      "text/plain": [
       "array([ 0.47855221,  0.42153833,  0.47418089,  0.4322856 ,  0.44477572,\n",
       "        0.44720516,  0.40910252,  0.47595388,  0.4678902 ,  0.41008312])"
      ]
     },
     "execution_count": 41,
     "metadata": {},
     "output_type": "execute_result"
    }
   ],
   "source": [
    "# linear regression cross validation scores for raw data\n",
    "\n",
    "cross_val_score(regr08, X_test08, Y_test08, cv=10)"
   ]
  },
  {
   "cell_type": "code",
   "execution_count": 42,
   "metadata": {},
   "outputs": [
    {
     "data": {
      "text/plain": [
       "array([ 0.48238067,  0.42447666,  0.47532247,  0.43308534,  0.44510076,\n",
       "        0.44685807,  0.40976333,  0.47782069,  0.47008957,  0.41346887])"
      ]
     },
     "execution_count": 42,
     "metadata": {},
     "output_type": "execute_result"
    }
   ],
   "source": [
    "# linear regression cross validation scores for feature engineered data\n",
    "\n",
    "cross_val_score(regrBig08, X_test08_2, Y_test08, cv=10)"
   ]
  },
  {
   "cell_type": "code",
   "execution_count": 43,
   "metadata": {},
   "outputs": [
    {
     "name": "stdout",
     "output_type": "stream",
     "text": [
      "0.454397157291\n",
      "0.455454141878\n"
     ]
    }
   ],
   "source": [
    "# lasso regression accuracy comparison between raw and feature engineered data\n",
    "\n",
    "print(lass08.score(X_test08, Y_test08))\n",
    "print(lassBig08.score(X_test08_2, Y_test08))"
   ]
  },
  {
   "cell_type": "code",
   "execution_count": 44,
   "metadata": {},
   "outputs": [
    {
     "data": {
      "text/plain": [
       "array([ 0.48174577,  0.42286147,  0.47512065,  0.43205495,  0.44411385,\n",
       "        0.44811147,  0.40862419,  0.4758653 ,  0.46666177,  0.40892329])"
      ]
     },
     "execution_count": 44,
     "metadata": {},
     "output_type": "execute_result"
    }
   ],
   "source": [
    "# lasso regression cross validation scores for raw data\n",
    "\n",
    "cross_val_score(lass08, X_test08, Y_test08, cv=10)"
   ]
  },
  {
   "cell_type": "code",
   "execution_count": 45,
   "metadata": {},
   "outputs": [
    {
     "name": "stderr",
     "output_type": "stream",
     "text": [
      "/Users/jamilab/anaconda3/lib/python3.6/site-packages/sklearn/linear_model/coordinate_descent.py:491: ConvergenceWarning: Objective did not converge. You might want to increase the number of iterations. Fitting data with very small alpha may cause precision problems.\n",
      "  ConvergenceWarning)\n",
      "/Users/jamilab/anaconda3/lib/python3.6/site-packages/sklearn/linear_model/coordinate_descent.py:491: ConvergenceWarning: Objective did not converge. You might want to increase the number of iterations. Fitting data with very small alpha may cause precision problems.\n",
      "  ConvergenceWarning)\n",
      "/Users/jamilab/anaconda3/lib/python3.6/site-packages/sklearn/linear_model/coordinate_descent.py:491: ConvergenceWarning: Objective did not converge. You might want to increase the number of iterations. Fitting data with very small alpha may cause precision problems.\n",
      "  ConvergenceWarning)\n",
      "/Users/jamilab/anaconda3/lib/python3.6/site-packages/sklearn/linear_model/coordinate_descent.py:491: ConvergenceWarning: Objective did not converge. You might want to increase the number of iterations. Fitting data with very small alpha may cause precision problems.\n",
      "  ConvergenceWarning)\n",
      "/Users/jamilab/anaconda3/lib/python3.6/site-packages/sklearn/linear_model/coordinate_descent.py:491: ConvergenceWarning: Objective did not converge. You might want to increase the number of iterations. Fitting data with very small alpha may cause precision problems.\n",
      "  ConvergenceWarning)\n",
      "/Users/jamilab/anaconda3/lib/python3.6/site-packages/sklearn/linear_model/coordinate_descent.py:491: ConvergenceWarning: Objective did not converge. You might want to increase the number of iterations. Fitting data with very small alpha may cause precision problems.\n",
      "  ConvergenceWarning)\n",
      "/Users/jamilab/anaconda3/lib/python3.6/site-packages/sklearn/linear_model/coordinate_descent.py:491: ConvergenceWarning: Objective did not converge. You might want to increase the number of iterations. Fitting data with very small alpha may cause precision problems.\n",
      "  ConvergenceWarning)\n",
      "/Users/jamilab/anaconda3/lib/python3.6/site-packages/sklearn/linear_model/coordinate_descent.py:491: ConvergenceWarning: Objective did not converge. You might want to increase the number of iterations. Fitting data with very small alpha may cause precision problems.\n",
      "  ConvergenceWarning)\n",
      "/Users/jamilab/anaconda3/lib/python3.6/site-packages/sklearn/linear_model/coordinate_descent.py:491: ConvergenceWarning: Objective did not converge. You might want to increase the number of iterations. Fitting data with very small alpha may cause precision problems.\n",
      "  ConvergenceWarning)\n",
      "/Users/jamilab/anaconda3/lib/python3.6/site-packages/sklearn/linear_model/coordinate_descent.py:491: ConvergenceWarning: Objective did not converge. You might want to increase the number of iterations. Fitting data with very small alpha may cause precision problems.\n",
      "  ConvergenceWarning)\n"
     ]
    },
    {
     "data": {
      "text/plain": [
       "array([ 0.48045737,  0.4234053 ,  0.47492624,  0.432588  ,  0.44538594,\n",
       "        0.44736963,  0.40794609,  0.47467016,  0.46751945,  0.40886014])"
      ]
     },
     "execution_count": 45,
     "metadata": {},
     "output_type": "execute_result"
    }
   ],
   "source": [
    "# lasso regression cross validation scores for feature engineered data\n",
    "\n",
    "cross_val_score(lassBig08, X_test08_2, Y_test08, cv=10)"
   ]
  },
  {
   "cell_type": "code",
   "execution_count": 46,
   "metadata": {},
   "outputs": [
    {
     "name": "stdout",
     "output_type": "stream",
     "text": [
      "0.454240823416\n",
      "0.455984524026\n"
     ]
    }
   ],
   "source": [
    "# ridge regression accuracy comparison between raw & feature engineered data\n",
    "\n",
    "print(ridgeregr08.score(X_test08, Y_test08))\n",
    "print(ridgeregrBig08.score(X_test08_2, Y_test08))"
   ]
  },
  {
   "cell_type": "code",
   "execution_count": 47,
   "metadata": {},
   "outputs": [
    {
     "data": {
      "text/plain": [
       "array([ 0.46124868,  0.4289722 ,  0.44805086,  0.45826291,  0.43871652,\n",
       "        0.46245759,  0.43973354,  0.46029898,  0.479113  ,  0.42077508])"
      ]
     },
     "execution_count": 47,
     "metadata": {},
     "output_type": "execute_result"
    }
   ],
   "source": [
    "# ridge regression cross validation scores for raw data\n",
    "\n",
    "cross_val_score(ridgeregr08, X_test, Y_test, cv=10)"
   ]
  },
  {
   "cell_type": "code",
   "execution_count": 48,
   "metadata": {},
   "outputs": [
    {
     "data": {
      "text/plain": [
       "array([ 0.48238067,  0.42447666,  0.47532247,  0.43308534,  0.44510076,\n",
       "        0.44685807,  0.40976333,  0.47782069,  0.47008958,  0.41346887])"
      ]
     },
     "execution_count": 48,
     "metadata": {},
     "output_type": "execute_result"
    }
   ],
   "source": [
    "# ridge regression cross validation scores for feature engineered data\n",
    "\n",
    "cross_val_score(ridgeregrBig08, X_test08_2, Y_test08, cv=10)"
   ]
  },
  {
   "cell_type": "markdown",
   "metadata": {},
   "source": [
    "**All 3 models performed slightly better with feature engineered data than with the raw data.  Accuracy was constant at 45% for all models, which were linear regression, lasso regression and ridge regression.**"
   ]
  }
 ],
 "metadata": {
  "kernelspec": {
   "display_name": "Python 3",
   "language": "python",
   "name": "python3"
  },
  "language_info": {
   "codemirror_mode": {
    "name": "ipython",
    "version": 3
   },
   "file_extension": ".py",
   "mimetype": "text/x-python",
   "name": "python",
   "nbconvert_exporter": "python",
   "pygments_lexer": "ipython3",
   "version": "3.6.3"
  }
 },
 "nbformat": 4,
 "nbformat_minor": 2
}
